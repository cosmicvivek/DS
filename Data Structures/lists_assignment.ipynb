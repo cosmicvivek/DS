{
 "cells": [
  {
   "cell_type": "code",
   "execution_count": 1,
   "id": "97d1ddd4",
   "metadata": {},
   "outputs": [
    {
     "name": "stdout",
     "output_type": "stream",
     "text": [
      "(1, 2, 3, 4, 5, 6, 7, 8, 9, 10, 11, 12, 13, 14, 15, 16, 17, 18, 19, 20)\n"
     ]
    }
   ],
   "source": [
    "## Assignment 1 : creating and accessing lists \n",
    "\n",
    "##Create a list of first 20 positive integers. Print the list\n",
    "\n",
    "\n",
    "p_int = (1,2,3,4,5,6,7,8,9,10,11,12,13,14,15,16,17,18,19,20)\n",
    "print(p_int)"
   ]
  },
  {
   "cell_type": "code",
   "execution_count": 6,
   "id": "4b30934d",
   "metadata": {},
   "outputs": [
    {
     "name": "stdout",
     "output_type": "stream",
     "text": [
      "[0, 1, 2, 3, 4, 5, 6, 7, 8, 9, 10, 11, 12, 13, 14, 15, 16, 17, 18, 19, 20]\n"
     ]
    }
   ],
   "source": [
    "numbs =[]\n",
    "for i in range(21):\n",
    "    numbs.append(i)\n",
    "\n",
    "print(numbs)"
   ]
  },
  {
   "cell_type": "code",
   "execution_count": 9,
   "id": "ebdb4c18",
   "metadata": {},
   "outputs": [
    {
     "name": "stdout",
     "output_type": "stream",
     "text": [
      "[1, 2, 3, 4, 5, 6, 7, 8, 9, 10, 11, 12, 13, 14, 15, 16, 17, 18, 19, 20]\n"
     ]
    }
   ],
   "source": [
    "lst = list(range(1,21))\n",
    "print(lst)"
   ]
  },
  {
   "cell_type": "code",
   "execution_count": 49,
   "id": "422ae688",
   "metadata": {},
   "outputs": [
    {
     "name": "stdout",
     "output_type": "stream",
     "text": [
      "1\n",
      "12\n",
      "20\n"
     ]
    }
   ],
   "source": [
    "# Assignment 2 : Accessing list elements\n",
    "\n",
    "print(lst[0])\n",
    "print(lst[len(lst)//2 + 1])\n",
    "print(lst[-1])"
   ]
  },
  {
   "cell_type": "code",
   "execution_count": 50,
   "id": "a8868258",
   "metadata": {},
   "outputs": [
    {
     "name": "stdout",
     "output_type": "stream",
     "text": [
      "[2, 3, 4, 5, 6]\n",
      "[16, 17, 18, 19, 20]\n",
      "[6, 7, 8, 9, 10, 11, 12, 13, 14, 15]\n"
     ]
    }
   ],
   "source": [
    "#Assignment 3rd : List slicing \n",
    "\n",
    "print(lst[1:6])\n",
    "print(lst[-5:])\n",
    "print(lst[5:15])\n"
   ]
  },
  {
   "cell_type": "code",
   "execution_count": 51,
   "id": "5e1f3b3a",
   "metadata": {},
   "outputs": [
    {
     "name": "stdout",
     "output_type": "stream",
     "text": [
      "[0, 1, 4, 9, 16, 25, 36, 49, 64, 81]\n"
     ]
    }
   ],
   "source": [
    "#Assignment 4: list comphrension \n",
    "\n",
    "sqlst = [n**2 for n in range(10)]\n",
    "print(sqlst)"
   ]
  },
  {
   "cell_type": "code",
   "execution_count": 52,
   "id": "d9264000",
   "metadata": {},
   "outputs": [
    {
     "name": "stdout",
     "output_type": "stream",
     "text": [
      "[2, 4, 6, 8, 10, 12, 14, 16, 18, 20]\n"
     ]
    }
   ],
   "source": [
    "# #Assignment 5: Filtering lists\n",
    "# Create a new list containing only the even numbers from the list created in asignment 1 using list comphrension. Print the new \n",
    "\n",
    "flist=[i for i in lst if i%2==0 ]\n",
    "print(flist)\n",
    "\n",
    "\n",
    "#didnt understand the syntax well"
   ]
  },
  {
   "cell_type": "code",
   "execution_count": 67,
   "id": "1724e48a",
   "metadata": {},
   "outputs": [
    {
     "name": "stdout",
     "output_type": "stream",
     "text": [
      "[26, 6, 16, 29, 30, 38, 22, 7, 5, 44, 29, 35, 25, 6, 2, 43, 17, 48, 8, 26]\n",
      "sorted in ascneding order : [2, 5, 6, 6, 7, 8, 16, 17, 22, 25, 26, 26, 29, 29, 30, 35, 38, 43, 44, 48]\n",
      "sorted in descending order : [48, 44, 43, 38, 35, 30, 29, 29, 26, 26, 25, 22, 17, 16, 8, 7, 6, 6, 5, 2]\n",
      "List with duplicates removed : [2, 35, 5, 6, 38, 7, 8, 43, 44, 16, 17, 48, 22, 25, 26, 29, 30] \n"
     ]
    }
   ],
   "source": [
    "#Assignment 6 : list methods \n",
    "\n",
    "import random\n",
    "\n",
    "# create a list of random numbers and sort it in ascending and descending order. Remove the duplicates from the list and print the modified list\n",
    "random_list = [random.randint(1, 50) for _ in range(20)]\n",
    "\n",
    "print(random_list)\n",
    "\n",
    "\n",
    "sorted_numbers = sorted(random_list)\n",
    "print(f\"sorted in ascneding order : {sorted_numbers}\")\n",
    "\n",
    "sorted_numbers_desc = sorted(random_list, reverse=True)\n",
    "print(f\"sorted in descending order : {sorted_numbers_desc}\")\n",
    "\n",
    "unique_numbers = list(set(random_list))\n",
    "print(f\"List with duplicates removed : {unique_numbers} \")\n"
   ]
  },
  {
   "cell_type": "code",
   "execution_count": 68,
   "id": "f23b521e",
   "metadata": {},
   "outputs": [
    {
     "name": "stdout",
     "output_type": "stream",
     "text": [
      "[2, 5, 6, 6, 7, 8, 16, 17, 22, 25, 26, 26, 29, 29, 30, 35, 38, 43, 44, 48]\n"
     ]
    }
   ],
   "source": [
    "random_list.sort()\n",
    "print(random_list)\n",
    "\n"
   ]
  },
  {
   "cell_type": "code",
   "execution_count": 69,
   "id": "6c557845",
   "metadata": {},
   "outputs": [
    {
     "name": "stdout",
     "output_type": "stream",
     "text": [
      "[48, 44, 43, 38, 35, 30, 29, 29, 26, 26, 25, 22, 17, 16, 8, 7, 6, 6, 5, 2]\n"
     ]
    }
   ],
   "source": [
    "random_list.reverse()\n",
    "print(random_list)"
   ]
  },
  {
   "cell_type": "code",
   "execution_count": 70,
   "id": "f697ab9a",
   "metadata": {},
   "outputs": [
    {
     "name": "stdout",
     "output_type": "stream",
     "text": [
      "[2, 5, 6, 7, 8, 16, 17, 22, 25, 26, 29, 30, 35, 38, 43, 44, 48]\n"
     ]
    }
   ],
   "source": [
    "uniqueNum = list(sorted(set(random_list)))\n",
    "print(uniqueNum)"
   ]
  },
  {
   "cell_type": "markdown",
   "id": "516a714d",
   "metadata": {},
   "source": [
    "\n",
    "# When to use which:\n",
    "\n",
    " **Use `sorted()` when you:**\n",
    " 1. Want to keep the original list unchanged  \n",
    " 2. Need to sort something that's not a list  \n",
    " 3. Want to chain operations  \n",
    "\n",
    " **Use `.sort()` when you:**\n",
    " 1. Want to modify the original list  \n",
    " 2. Want to save memory (no new list created)  \n",
    " 3. Don't need the original order anymore"
   ]
  },
  {
   "cell_type": "code",
   "execution_count": null,
   "id": "a4b51fc6",
   "metadata": {},
   "outputs": [
    {
     "name": "stdout",
     "output_type": "stream",
     "text": [
      "Matrix:\n",
      "[1, 2, 3]\n",
      "[4, 5, 6]\n",
      "[7, 8, 9]\n",
      "\n",
      "Element at 2nd row, 3rd column: 6\n"
     ]
    }
   ],
   "source": [
    "# Assignment 7: Nested lists\n",
    "# create a 3x3 matrix and print it, access and print element in 2nd row 3rd column\n",
    "\n",
    "# Create a 3x3 matrix\n",
    "matrix = [\n",
    "    [1, 2, 3],\n",
    "    [4, 5, 6],\n",
    "    [7, 8, 9]\n",
    "]\n",
    "print(\"Matrix:\")\n",
    "for row in matrix:\n",
    "    print(row)\n",
    "\n",
    "# Access element in 2nd row, 3rd column (6)\n",
    "# Remember: Python uses 0-based indexing\n",
    "element = matrix[1][2]  # row 1, column 2 gives us 6\n",
    "print(f\"\\nElement at 2nd row, 3rd column: {element}\")"
   ]
  },
  {
   "cell_type": "code",
   "execution_count": null,
   "id": "b180faa1",
   "metadata": {},
   "outputs": [],
   "source": []
  }
 ],
 "metadata": {
  "kernelspec": {
   "display_name": "Python 3",
   "language": "python",
   "name": "python3"
  },
  "language_info": {
   "codemirror_mode": {
    "name": "ipython",
    "version": 3
   },
   "file_extension": ".py",
   "mimetype": "text/x-python",
   "name": "python",
   "nbconvert_exporter": "python",
   "pygments_lexer": "ipython3",
   "version": "3.13.2"
  }
 },
 "nbformat": 4,
 "nbformat_minor": 5
}
