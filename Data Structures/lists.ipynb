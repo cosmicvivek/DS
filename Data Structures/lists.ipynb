{
 "cells": [
  {
   "cell_type": "markdown",
   "id": "2d9f6d63",
   "metadata": {},
   "source": [
    "# Introduction To Lists\n",
    "\n",
    ">Lists are ordered, mutable collections of items.\n",
    ">They can contain items of different data types.\n",
    "\n",
    "\n",
    "1. Introduction to Lists\n",
    "2. Creating Lists\n",
    "3. Accessing List Elements\n",
    "4. Modifying List Elements\n",
    "5. List Methods\n",
    "6. Slicing Lists\n",
    "7. Iterating Over Lists\n",
    "8. List Comprehensions\n",
    "9. Nested Lists\n",
    "10. Practical Examples and Common Errors"
   ]
  },
  {
   "cell_type": "code",
   "execution_count": 2,
   "id": "bfbea471",
   "metadata": {},
   "outputs": [
    {
     "name": "stdout",
     "output_type": "stream",
     "text": [
      "<class 'list'>\n"
     ]
    }
   ],
   "source": [
    "list=[]\n",
    "print(type(list))"
   ]
  },
  {
   "cell_type": "code",
   "execution_count": 3,
   "id": "7f2bdfda",
   "metadata": {},
   "outputs": [
    {
     "name": "stdout",
     "output_type": "stream",
     "text": [
      "['vivek', 'ritik', 'dog']\n"
     ]
    }
   ],
   "source": [
    "names=[\"vivek\", \"ritik\", \"dog\"]\n",
    "print(names)"
   ]
  },
  {
   "cell_type": "code",
   "execution_count": 4,
   "id": "04698bdc",
   "metadata": {},
   "outputs": [
    {
     "name": "stdout",
     "output_type": "stream",
     "text": [
      "['vivek', 'dog', 'cat', 3, 54, True]\n"
     ]
    }
   ],
   "source": [
    "names=[\"vivek\",\"dog\",\"cat\", 3,54,True]\n",
    "print(names)"
   ]
  },
  {
   "cell_type": "code",
   "execution_count": 5,
   "id": "173a562b",
   "metadata": {},
   "outputs": [],
   "source": [
    "### Accessing the list elements \n",
    "\n",
    "fruits=[\"apple\",\"kiwi\",\"cherry\",\"banana\",\"orange\"]"
   ]
  },
  {
   "cell_type": "code",
   "execution_count": 6,
   "id": "cf2139d5",
   "metadata": {},
   "outputs": [
    {
     "name": "stdout",
     "output_type": "stream",
     "text": [
      "apple\n",
      "cherry\n",
      "orange\n"
     ]
    }
   ],
   "source": [
    "print(fruits[0])\n",
    "print(fruits[2])\n",
    "print(fruits[-1])"
   ]
  },
  {
   "cell_type": "code",
   "execution_count": 7,
   "id": "ffefafc9",
   "metadata": {},
   "outputs": [
    {
     "name": "stdout",
     "output_type": "stream",
     "text": [
      "['kiwi', 'cherry', 'banana', 'orange']\n",
      "[]\n"
     ]
    }
   ],
   "source": [
    "print(fruits[1:6])\n",
    "print(fruits[-1:-3])"
   ]
  },
  {
   "cell_type": "code",
   "execution_count": 8,
   "id": "055489ee",
   "metadata": {},
   "outputs": [
    {
     "data": {
      "text/plain": [
       "['apple', 'kiwi', 'cherry', 'banana', 'orange']"
      ]
     },
     "execution_count": 8,
     "metadata": {},
     "output_type": "execute_result"
    }
   ],
   "source": [
    "# modifying the list elements\n",
    "fruits"
   ]
  },
  {
   "cell_type": "code",
   "execution_count": 9,
   "id": "3896061c",
   "metadata": {},
   "outputs": [
    {
     "name": "stdout",
     "output_type": "stream",
     "text": [
      "['apple', 'watermelon', 'cherry', 'banana', 'orange']\n"
     ]
    }
   ],
   "source": [
    "fruits[1]=\"watermelon\"\n",
    "print(fruits)"
   ]
  },
  {
   "cell_type": "code",
   "execution_count": 10,
   "id": "57259071",
   "metadata": {},
   "outputs": [],
   "source": [
    "fruits[1:]= \"watermelon\""
   ]
  },
  {
   "cell_type": "code",
   "execution_count": 11,
   "id": "a2d3a7fd",
   "metadata": {},
   "outputs": [
    {
     "data": {
      "text/plain": [
       "['apple', 'w', 'a', 't', 'e', 'r', 'm', 'e', 'l', 'o', 'n']"
      ]
     },
     "execution_count": 11,
     "metadata": {},
     "output_type": "execute_result"
    }
   ],
   "source": [
    "fruits"
   ]
  },
  {
   "cell_type": "code",
   "execution_count": 12,
   "id": "82203587",
   "metadata": {},
   "outputs": [],
   "source": [
    "fruits=[\"apple\",\"kiwi\",\"cherry\",\"banana\",\"orange\"]"
   ]
  },
  {
   "cell_type": "code",
   "execution_count": 13,
   "id": "16d5bcec",
   "metadata": {},
   "outputs": [
    {
     "data": {
      "text/plain": [
       "['apple', 'kiwi', 'cherry', 'banana', 'orange', 'orange']"
      ]
     },
     "execution_count": 13,
     "metadata": {},
     "output_type": "execute_result"
    }
   ],
   "source": [
    "## List methods\n",
    "\n",
    "fruits.append(\"orange\") #Add an item to the lsit\n",
    "\n",
    "fruits"
   ]
  },
  {
   "cell_type": "code",
   "execution_count": 14,
   "id": "042ecedc",
   "metadata": {},
   "outputs": [
    {
     "data": {
      "text/plain": [
       "['apple', 'pogo', 'kiwi', 'cherry', 'banana', 'orange', 'orange']"
      ]
     },
     "execution_count": 14,
     "metadata": {},
     "output_type": "execute_result"
    }
   ],
   "source": [
    "fruits.insert(1,\"pogo\")\n",
    "fruits"
   ]
  },
  {
   "cell_type": "code",
   "execution_count": 15,
   "id": "b9a1951d",
   "metadata": {},
   "outputs": [
    {
     "data": {
      "text/plain": [
       "['pogo', 'kiwi', 'cherry', 'banana', 'orange', 'orange']"
      ]
     },
     "execution_count": 15,
     "metadata": {},
     "output_type": "execute_result"
    }
   ],
   "source": [
    "fruits.remove(\"apple\")  #removing the first occurance of an item\n",
    "fruits"
   ]
  },
  {
   "cell_type": "code",
   "execution_count": 16,
   "id": "c230c3d8",
   "metadata": {},
   "outputs": [
    {
     "name": "stdout",
     "output_type": "stream",
     "text": [
      "orange\n"
     ]
    }
   ],
   "source": [
    "#remove and return the last item\n",
    "\n",
    "popped_Fruit = fruits.pop()\n",
    "print   (popped_Fruit)"
   ]
  },
  {
   "cell_type": "code",
   "execution_count": 17,
   "id": "0b58db5b",
   "metadata": {},
   "outputs": [
    {
     "data": {
      "text/plain": [
       "['pogo', 'kiwi', 'cherry', 'banana', 'orange']"
      ]
     },
     "execution_count": 17,
     "metadata": {},
     "output_type": "execute_result"
    }
   ],
   "source": [
    "fruits"
   ]
  },
  {
   "cell_type": "code",
   "execution_count": 18,
   "id": "765abf02",
   "metadata": {},
   "outputs": [
    {
     "data": {
      "text/plain": [
       "0"
      ]
     },
     "execution_count": 18,
     "metadata": {},
     "output_type": "execute_result"
    }
   ],
   "source": [
    "fruits.index(\"pogo\")"
   ]
  },
  {
   "cell_type": "code",
   "execution_count": 19,
   "id": "8e56be0f",
   "metadata": {},
   "outputs": [],
   "source": [
    "fruits.insert(2,\"lomfo\")"
   ]
  },
  {
   "cell_type": "code",
   "execution_count": 20,
   "id": "c01015e2",
   "metadata": {},
   "outputs": [
    {
     "data": {
      "text/plain": [
       "['pogo', 'kiwi', 'lomfo', 'cherry', 'banana', 'orange']"
      ]
     },
     "execution_count": 20,
     "metadata": {},
     "output_type": "execute_result"
    }
   ],
   "source": [
    "fruits"
   ]
  },
  {
   "cell_type": "code",
   "execution_count": 21,
   "id": "c262e826",
   "metadata": {},
   "outputs": [
    {
     "name": "stdout",
     "output_type": "stream",
     "text": [
      "1\n"
     ]
    }
   ],
   "source": [
    "print(fruits.count(\"lomfo\"))"
   ]
  },
  {
   "cell_type": "code",
   "execution_count": 22,
   "id": "fe63e74d",
   "metadata": {},
   "outputs": [],
   "source": [
    "fruits.sort()"
   ]
  },
  {
   "cell_type": "code",
   "execution_count": 23,
   "id": "e4e4b48c",
   "metadata": {},
   "outputs": [
    {
     "data": {
      "text/plain": [
       "['banana', 'cherry', 'kiwi', 'lomfo', 'orange', 'pogo']"
      ]
     },
     "execution_count": 23,
     "metadata": {},
     "output_type": "execute_result"
    }
   ],
   "source": [
    "fruits"
   ]
  },
  {
   "cell_type": "code",
   "execution_count": 24,
   "id": "03be4eb3",
   "metadata": {},
   "outputs": [
    {
     "data": {
      "text/plain": [
       "['pogo', 'orange', 'lomfo', 'kiwi', 'cherry', 'banana']"
      ]
     },
     "execution_count": 24,
     "metadata": {},
     "output_type": "execute_result"
    }
   ],
   "source": [
    "fruits.reverse()\n",
    "\n",
    "fruits"
   ]
  },
  {
   "cell_type": "code",
   "execution_count": 25,
   "id": "1df7b436",
   "metadata": {},
   "outputs": [],
   "source": [
    "fruits.clear()"
   ]
  },
  {
   "cell_type": "code",
   "execution_count": 26,
   "id": "6c8f9efd",
   "metadata": {},
   "outputs": [
    {
     "data": {
      "text/plain": [
       "[]"
      ]
     },
     "execution_count": 26,
     "metadata": {},
     "output_type": "execute_result"
    }
   ],
   "source": [
    "fruits"
   ]
  },
  {
   "cell_type": "code",
   "execution_count": 27,
   "id": "715a4d4a",
   "metadata": {},
   "outputs": [
    {
     "name": "stdout",
     "output_type": "stream",
     "text": [
      "[2, 3, 4]\n",
      "[0, 1, 2, 3, 4]\n",
      "[5, 6, 7, 8, 9, 10]\n",
      "[2, 3, 4]\n",
      "[0, 2, 4, 6, 8, 10]\n",
      "[10, 8, 6, 4, 2, 0]\n"
     ]
    }
   ],
   "source": [
    "# Slicing\n",
    "\n",
    "\n",
    "numbers = [0,1,2,3,4,5,6,7,8,9,10]\n",
    "\n",
    "print(numbers[2:5])\n",
    "print(numbers[:5])\n",
    "print(numbers[5:])\n",
    "print(numbers[2:5])\n",
    "print(numbers[::2])\n",
    "\n",
    "print(numbers[::-2])\n"
   ]
  },
  {
   "cell_type": "code",
   "execution_count": 28,
   "id": "a18c3202",
   "metadata": {},
   "outputs": [
    {
     "name": "stdout",
     "output_type": "stream",
     "text": [
      "0\n",
      "1\n",
      "2\n",
      "3\n",
      "4\n",
      "5\n",
      "6\n",
      "7\n",
      "8\n",
      "9\n",
      "10\n"
     ]
    }
   ],
   "source": [
    "#iterate over lists \n",
    "\n",
    "for number in numbers:\n",
    "    print(number)"
   ]
  },
  {
   "cell_type": "code",
   "execution_count": 29,
   "id": "6f728824",
   "metadata": {},
   "outputs": [
    {
     "data": {
      "text/plain": [
       "[0, 1, 2, 3, 4, 5, 6, 7, 8, 9, 10]"
      ]
     },
     "execution_count": 29,
     "metadata": {},
     "output_type": "execute_result"
    }
   ],
   "source": [
    "numbers\n"
   ]
  },
  {
   "cell_type": "code",
   "execution_count": 30,
   "id": "5596fd77",
   "metadata": {},
   "outputs": [
    {
     "name": "stdout",
     "output_type": "stream",
     "text": [
      "0 0\n",
      "1 1\n",
      "2 2\n",
      "3 3\n",
      "4 4\n",
      "5 5\n",
      "6 6\n",
      "7 7\n",
      "8 8\n",
      "9 9\n",
      "10 10\n"
     ]
    }
   ],
   "source": [
    "#iterating with index\n",
    "\n",
    "for index,number in enumerate(numbers):\n",
    "    print(index,number)"
   ]
  },
  {
   "cell_type": "code",
   "execution_count": 31,
   "id": "a95ae869",
   "metadata": {},
   "outputs": [
    {
     "name": "stdout",
     "output_type": "stream",
     "text": [
      "[0, 1, 4, 9, 16, 25, 36, 49, 64, 81]\n"
     ]
    }
   ],
   "source": [
    "# List comprehension\n",
    "\n",
    "lst=[ ]\n",
    "for x in range(10):\n",
    "    lst.append(x**2)\n",
    "\n",
    "print(lst)"
   ]
  },
  {
   "cell_type": "code",
   "execution_count": 32,
   "id": "df879ae4",
   "metadata": {},
   "outputs": [
    {
     "data": {
      "text/plain": [
       "[0, 1, 4, 9, 16, 25, 36, 49, 64, 81]"
      ]
     },
     "execution_count": 32,
     "metadata": {},
     "output_type": "execute_result"
    }
   ],
   "source": [
    "[x**2 for x in range(10)]"
   ]
  },
  {
   "cell_type": "code",
   "execution_count": 33,
   "id": "64471f71",
   "metadata": {},
   "outputs": [],
   "source": [
    "#list comperhension"
   ]
  }
 ],
 "metadata": {
  "kernelspec": {
   "display_name": "Python 3",
   "language": "python",
   "name": "python3"
  },
  "language_info": {
   "codemirror_mode": {
    "name": "ipython",
    "version": 3
   },
   "file_extension": ".py",
   "mimetype": "text/x-python",
   "name": "python",
   "nbconvert_exporter": "python",
   "pygments_lexer": "ipython3",
   "version": "3.13.2"
  }
 },
 "nbformat": 4,
 "nbformat_minor": 5
}
