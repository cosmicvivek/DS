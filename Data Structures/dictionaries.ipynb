{
 "cells": [
  {
   "cell_type": "markdown",
   "id": "52bcf617",
   "metadata": {},
   "source": [
    "Dictionaries\n",
    "# DICTIONARIES\n",
    "\n",
    "1. **Introduction to Dictionaries**\n",
    "2. **Creating Dictionaries**\n",
    "3. **Accessing Dictionary Elements**\n",
    "4. **Modifying Dictionary Elements**\n",
    "5. **Dictionary Methods**\n",
    "6. **Iterating Over Dictionaries**\n",
    "7. **Nested Dictionaries**\n",
    "8. **Dictionary Comprehensions**\n",
    "9. **Practical Examples and Common Errors**\n",
    "\n",
    "**Introduction to Dictionaries**  \n",
    "Dictionaries are unordered collections of items. They store data in key-value pairs. Keys must be unique and immutable (e.g., strings, numbers, or tuples), while values can be of any type.\n"
   ]
  },
  {
   "cell_type": "code",
   "execution_count": 1,
   "id": "ec8de896",
   "metadata": {},
   "outputs": [
    {
     "name": "stdout",
     "output_type": "stream",
     "text": [
      "<class 'dict'>\n"
     ]
    }
   ],
   "source": [
    "# #creating dictionaries \n",
    "# [] = empty list\n",
    "# () = empty tuples\n",
    "# {} = empty disctionary \n",
    "\n",
    "empty_dict = {}\n",
    "print(type(empty_dict))"
   ]
  },
  {
   "cell_type": "code",
   "execution_count": 2,
   "id": "abf5baa1",
   "metadata": {},
   "outputs": [
    {
     "data": {
      "text/plain": [
       "{}"
      ]
     },
     "execution_count": 2,
     "metadata": {},
     "output_type": "execute_result"
    }
   ],
   "source": [
    "empty_dict = dict()\n",
    "empty_dict"
   ]
  },
  {
   "cell_type": "code",
   "execution_count": 5,
   "id": "0963a3c8",
   "metadata": {},
   "outputs": [
    {
     "name": "stdout",
     "output_type": "stream",
     "text": [
      "{'name': 'vivek', 'age': 24, 'grade': 'lol'}\n",
      "<class 'dict'>\n"
     ]
    }
   ],
   "source": [
    "student = {\"name\" : \"vivek\", \"age\" : 24 ,\"grade\" : \"lol\"}\n",
    "print(student)\n",
    "print(type(student))"
   ]
  },
  {
   "cell_type": "code",
   "execution_count": 21,
   "id": "640feaeb",
   "metadata": {},
   "outputs": [
    {
     "name": "stdout",
     "output_type": "stream",
     "text": [
      "{'name': 'vivek', 'age': 24, 'grade': 'lol'}\n"
     ]
    }
   ],
   "source": [
    "# Single keys are always used\n",
    "\n",
    "student = {\"name\" : \"vivek\", \"age\" : 24 ,\"grade\" : \"lol\"}\n",
    "print(student)"
   ]
  },
  {
   "cell_type": "code",
   "execution_count": 39,
   "id": "e52d0186",
   "metadata": {},
   "outputs": [
    {
     "name": "stdout",
     "output_type": "stream",
     "text": [
      "lol\n",
      "24\n",
      "vivek\n",
      "None\n",
      "NA\n"
     ]
    }
   ],
   "source": [
    "# Accessing dictionary elements \n",
    "student = {\"name\" : \"vivek\", \"age\" : 24 ,\"grade\" : \"lol\"}\n",
    "print(student[\"grade\"])\n",
    "print(student[\"age\"])\n",
    "\n",
    "# Accessing using get() method provided by distionary\n",
    "print(student.get('name'))\n",
    "print(student.get('last_name'))\n",
    "print(student.get('last_name', \"NA\"))"
   ]
  },
  {
   "cell_type": "code",
   "execution_count": 40,
   "id": "e4c46256",
   "metadata": {},
   "outputs": [
    {
     "name": "stdout",
     "output_type": "stream",
     "text": [
      "{'name': 'vivek', 'age': 24, 'grade': 'lol'}\n"
     ]
    }
   ],
   "source": [
    "# Modifying dictionary elements \n",
    "# Dictionary are mutable, so you can add , update or delete elements \n",
    "\n",
    "print(student)\n"
   ]
  },
  {
   "cell_type": "code",
   "execution_count": 41,
   "id": "75f3e0b4",
   "metadata": {},
   "outputs": [
    {
     "name": "stdout",
     "output_type": "stream",
     "text": [
      "{'name': 'vivek', 'age': 33, 'grade': 'lol'}\n",
      "{'name': 'vivek', 'age': 33, 'grade': 'lol', 'address': 'india'}\n"
     ]
    }
   ],
   "source": [
    "student[\"age\"]=33   # updated the value for the key\n",
    "print(student)\n",
    "student[\"address\"]= \"india\"  # added a new key and value \n",
    "print(student)"
   ]
  },
  {
   "cell_type": "code",
   "execution_count": 42,
   "id": "ec840283",
   "metadata": {},
   "outputs": [
    {
     "name": "stdout",
     "output_type": "stream",
     "text": [
      "{'name': 'vivek', 'age': 33, 'address': 'india'}\n"
     ]
    }
   ],
   "source": [
    "# Delete the key\n",
    "\n",
    "del student['grade']\n",
    "print(student)"
   ]
  },
  {
   "cell_type": "code",
   "execution_count": 43,
   "id": "4825debb",
   "metadata": {},
   "outputs": [
    {
     "name": "stdout",
     "output_type": "stream",
     "text": [
      "dict_keys(['name', 'age', 'address'])\n",
      "dict_values(['vivek', 33, 'india'])\n",
      "dict_items([('name', 'vivek'), ('age', 33), ('address', 'india')])\n"
     ]
    }
   ],
   "source": [
    "# Dictionary methods \n",
    "\n",
    "keys = student.keys()  # GET all the keys\n",
    "print(keys)\n",
    "values=student.values() # GET all the values\n",
    "print(values)\n",
    "\n",
    "items = student.items() # GET all key value paires \n",
    "print(items)"
   ]
  },
  {
   "cell_type": "code",
   "execution_count": 44,
   "id": "4241cdae",
   "metadata": {},
   "outputs": [
    {
     "name": "stdout",
     "output_type": "stream",
     "text": [
      "{'name': 'vivek', 'age': 33, 'address': 'india'}\n",
      "{'name': 'vivek', 'age': 33, 'address': 'india'}\n",
      "{'name': 'ritika', 'age': 33, 'address': 'india'}\n",
      "{'name': 'ritika', 'age': 33, 'address': 'india'}\n"
     ]
    }
   ],
   "source": [
    "# Shallow copy \n",
    "\n",
    "student_copy = student\n",
    "print(student)\n",
    "print(student_copy)\n",
    "\n",
    "student[\"name\"] = \"ritika\"\n",
    "\n",
    "print(student)\n",
    "print(student_copy)"
   ]
  },
  {
   "cell_type": "code",
   "execution_count": null,
   "id": "4af8e3c1",
   "metadata": {},
   "outputs": [
    {
     "name": "stdout",
     "output_type": "stream",
     "text": [
      "{'name': 'ritika', 'age': 33, 'address': 'india'}\n",
      "{'name': 'ritika', 'age': 33, 'address': 'india'}\n",
      "{'name': 'ritika', 'age': 33, 'address': 'india'}\n"
     ]
    }
   ],
   "source": [
    "student_copy1 = student.copy()  # Shallow copy\n",
    "print(student)\n",
    "print(student_copy)\n",
    "print(student_copy1)\n"
   ]
  },
  {
   "cell_type": "code",
   "execution_count": 47,
   "id": "5a87418f",
   "metadata": {},
   "outputs": [
    {
     "name": "stdout",
     "output_type": "stream",
     "text": [
      "{'name': 'vivek', 'age': 33, 'address': 'india'}\n",
      "{'name': 'vivek', 'age': 33, 'address': 'india'}\n",
      "{'name': 'ritika', 'age': 33, 'address': 'india'}\n"
     ]
    }
   ],
   "source": [
    "student[\"name\"] = \"vivek\"\n",
    "print(student)\n",
    "print(student_copy)\n",
    "print(student_copy1)\n"
   ]
  },
  {
   "cell_type": "code",
   "execution_count": 49,
   "id": "d651a833",
   "metadata": {},
   "outputs": [
    {
     "name": "stdout",
     "output_type": "stream",
     "text": [
      "name\n",
      "age\n",
      "address\n"
     ]
    }
   ],
   "source": [
    "# Iterating over dictionaries \n",
    "# we can use loops to iterate over dictionaries, keys, values or items \n",
    "\n",
    "# iterating over keys \n",
    "for key in student.keys():\n",
    "    print(key)"
   ]
  },
  {
   "cell_type": "code",
   "execution_count": 51,
   "id": "a8842705",
   "metadata": {},
   "outputs": [
    {
     "name": "stdout",
     "output_type": "stream",
     "text": [
      "vivek\n",
      "33\n",
      "india\n"
     ]
    }
   ],
   "source": [
    "# iterating over values \n",
    "for value in student.values():\n",
    "    print(value)"
   ]
  },
  {
   "cell_type": "code",
   "execution_count": 52,
   "id": "40364f70",
   "metadata": {},
   "outputs": [
    {
     "name": "stdout",
     "output_type": "stream",
     "text": [
      "name:india\n",
      "age:india\n",
      "address:india\n"
     ]
    }
   ],
   "source": [
    "# iterate over key value pairs \n",
    "\n",
    "for key,values in student.items():\n",
    "    print(f\"{key}:{value}\")"
   ]
  },
  {
   "cell_type": "code",
   "execution_count": 62,
   "id": "886e5c06",
   "metadata": {},
   "outputs": [
    {
     "name": "stdout",
     "output_type": "stream",
     "text": [
      "{'student1': {'name': 'krish', 'Age': 32, 'grade': 'A'}, 'student2': {'name': 'vivek', 'Age': 24, 'grade': 'C'}, 'student3': {'name': 'ritika', 'Age': 26, 'grade': 'A'}, 'student4': {'name': 'gian', 'Age': 22, 'grade': 'B'}, 'student5': {'name': 'aliv', 'Age': 28, 'grade': 'D'}}\n"
     ]
    }
   ],
   "source": [
    "# nested dictionaries \n",
    "\n",
    "students = {\n",
    "    \"student1\" : {\"name\" : \"krish\", \"Age\" : 32, \"grade\" : \"A\"},\n",
    "    \"student2\" : {\"name\" : \"vivek\", \"Age\": 24, \"grade\" : \"C\"},\n",
    "    \"student3\" : {\"name\" : \"ritika\", \"Age\": 26 ,\"grade\" : \"A\"},\n",
    "    \"student4\" : {\"name\" : \"gian\", \"Age\": 22, \"grade\" : \"B\" },\n",
    "    \"student5\" : {\"name\" : \"aliv\", \"Age\": 28, \"grade\" : \"D\"}\n",
    "}\n",
    "\n",
    "print(students)"
   ]
  },
  {
   "cell_type": "code",
   "execution_count": 63,
   "id": "d02155a6",
   "metadata": {},
   "outputs": [
    {
     "name": "stdout",
     "output_type": "stream",
     "text": [
      "krish\n",
      "32\n",
      "vivek\n",
      "gian\n"
     ]
    }
   ],
   "source": [
    "# Access nested dictionary elements \n",
    "\n",
    "print(students[\"student1\"][\"name\"])\n",
    "print(students[\"student1\"][\"Age\"])\n",
    "print(students[\"student2\"][\"name\"])\n",
    "print(students[\"student4\"][\"name\"])"
   ]
  },
  {
   "cell_type": "code",
   "execution_count": 64,
   "id": "8c98c7a8",
   "metadata": {},
   "outputs": [
    {
     "data": {
      "text/plain": [
       "dict_items([('student1', {'name': 'krish', 'Age': 32, 'grade': 'A'}), ('student2', {'name': 'vivek', 'Age': 24, 'grade': 'C'}), ('student3', {'name': 'ritika', 'Age': 26, 'grade': 'A'}), ('student4', {'name': 'gian', 'Age': 22, 'grade': 'B'}), ('student5', {'name': 'aliv', 'Age': 28, 'grade': 'D'})])"
      ]
     },
     "execution_count": 64,
     "metadata": {},
     "output_type": "execute_result"
    }
   ],
   "source": [
    "students.items()"
   ]
  },
  {
   "cell_type": "code",
   "execution_count": 67,
   "id": "cbf5e7f9",
   "metadata": {},
   "outputs": [
    {
     "name": "stdout",
     "output_type": "stream",
     "text": [
      "name:krish\n",
      "Age:32\n",
      "grade:A\n",
      "name:vivek\n",
      "Age:24\n",
      "grade:C\n",
      "name:ritika\n",
      "Age:26\n",
      "grade:A\n",
      "name:gian\n",
      "Age:22\n",
      "grade:B\n",
      "name:aliv\n",
      "Age:28\n",
      "grade:D\n"
     ]
    }
   ],
   "source": [
    "# Iterating over nested dictionaries \n",
    "for student_id,student_info in students.items():\n",
    "    # print(f\"{student_id} : {student_info}\")\n",
    "    for key,value in student_info.items():\n",
    "        print(f\"{key}:{value}\")"
   ]
  },
  {
   "cell_type": "code",
   "execution_count": 69,
   "id": "23906a7f",
   "metadata": {},
   "outputs": [
    {
     "name": "stdout",
     "output_type": "stream",
     "text": [
      "{0: 0, 1: 1, 8: 4, 27: 9, 64: 16}\n"
     ]
    }
   ],
   "source": [
    "# Dictionary comprehension \n",
    "squares = {x**3:x**2 for x in range(5)}\n",
    "print(squares)"
   ]
  },
  {
   "cell_type": "code",
   "execution_count": 70,
   "id": "71ca887b",
   "metadata": {},
   "outputs": [
    {
     "name": "stdout",
     "output_type": "stream",
     "text": [
      "{0: 0, 2: 4, 4: 16, 6: 36, 8: 64}\n"
     ]
    }
   ],
   "source": [
    "# Conditional dictionary comprehension \n",
    "\n",
    "evens = { x:x**2 for x in range(10) if x%2 == 0}\n",
    "print(evens)"
   ]
  },
  {
   "cell_type": "code",
   "execution_count": 71,
   "id": "31efc98a",
   "metadata": {},
   "outputs": [
    {
     "name": "stdout",
     "output_type": "stream",
     "text": [
      "{1: 4, 3: 3, 5: 2, 2: 4, 6: 1, 8: 1, 9: 1, 19: 1}\n"
     ]
    }
   ],
   "source": [
    "# Practical examples \n",
    "\n",
    "# Use a dictionary to count the frequency of elements in list \n",
    "\n",
    "numbers = [1,1,1,1,3,3,3,5,2,2,2,2,5,6,8,9,19]\n",
    "\n",
    "frequency = {}\n",
    "\n",
    "for number in numbers:\n",
    "    if number in frequency:\n",
    "        frequency[number]+=1\n",
    "    else:\n",
    "        frequency[number] = 1\n",
    "print(frequency)"
   ]
  },
  {
   "cell_type": "code",
   "execution_count": 73,
   "id": "d05eeba0",
   "metadata": {},
   "outputs": [
    {
     "name": "stdout",
     "output_type": "stream",
     "text": [
      "{'a': 1, 'b': 3, 'v': 4}\n"
     ]
    }
   ],
   "source": [
    "# Merge 2 dictionaries into one \n",
    "\n",
    "dict1 ={\"a\":1, \"b\" : 2}\n",
    "dict2 ={\"b\":3, \"v\" :4}\n",
    "merged_dict = {**dict1, **dict2}\n",
    "print(merged_dict)"
   ]
  }
 ],
 "metadata": {
  "kernelspec": {
   "display_name": "Python 3",
   "language": "python",
   "name": "python3"
  },
  "language_info": {
   "codemirror_mode": {
    "name": "ipython",
    "version": 3
   },
   "file_extension": ".py",
   "mimetype": "text/x-python",
   "name": "python",
   "nbconvert_exporter": "python",
   "pygments_lexer": "ipython3",
   "version": "3.13.2"
  }
 },
 "nbformat": 4,
 "nbformat_minor": 5
}
