{
 "cells": [
  {
   "cell_type": "markdown",
   "id": "3ca0de41",
   "metadata": {},
   "source": [
    "# Tuples\n",
    "\n",
    "## Video Outline\n",
    "\n",
    "1. **Introduction to Tuples**\n",
    "2. **Creating Tuples**\n",
    "3. **Accessing Tuple Elements**\n",
    "4. **Tuple Operations**\n",
    "5. **Immutable Nature of Tuples**\n",
    "    - Example: `my_tuple = (1, 2, 3)`\n",
    "6. **Nested Tuples**\n",
    "7. **Practical Examples and Common Errors**\n",
    "\n",
    "---\n",
    "\n",
    "## Introduction to Tuples\n",
    "\n",
    "**Explanation:**  \n",
    "Tuples are ordered collections of items that are immutable. They are similar to lists, but their immutability makes them different."
   ]
  },
  {
   "cell_type": "code",
   "execution_count": 1,
   "id": "99254141",
   "metadata": {},
   "outputs": [
    {
     "name": "stdout",
     "output_type": "stream",
     "text": [
      "()\n",
      "<class 'tuple'>\n"
     ]
    }
   ],
   "source": [
    "#creating a tuple \n",
    "empty_tuple=()\n",
    "print(empty_tuple)\n",
    "print(type(empty_tuple))"
   ]
  },
  {
   "cell_type": "code",
   "execution_count": 2,
   "id": "4b470d6a",
   "metadata": {},
   "outputs": [
    {
     "name": "stdout",
     "output_type": "stream",
     "text": [
      "<class 'list'>\n",
      "<class 'tuple'>\n"
     ]
    }
   ],
   "source": [
    "lst= list()\n",
    "print(type(lst))\n",
    "tpl = tuple()\n",
    "print(type(tpl))"
   ]
  },
  {
   "cell_type": "code",
   "execution_count": 3,
   "id": "69bf71b4",
   "metadata": {},
   "outputs": [
    {
     "name": "stdout",
     "output_type": "stream",
     "text": [
      "list converted to tuple (1, 2, 3, 4, 5, 6)\n"
     ]
    }
   ],
   "source": [
    "numbers = tuple([1,2,3,4,5,6])\n",
    "print(f\"list converted to tuple\", numbers)"
   ]
  },
  {
   "cell_type": "code",
   "execution_count": null,
   "id": "566582d9",
   "metadata": {},
   "outputs": [
    {
     "data": {
      "text/plain": [
       "[1, 2, 3, 4, 5, 6]"
      ]
     },
     "execution_count": 4,
     "metadata": {},
     "output_type": "execute_result"
    }
   ],
   "source": [
    "list((1,2,3,4,5,6))\n",
    "\n",
    "# type conversion"
   ]
  },
  {
   "cell_type": "code",
   "execution_count": 6,
   "id": "5eddc424",
   "metadata": {},
   "outputs": [
    {
     "data": {
      "text/plain": [
       "(1, 'helloaw', 3.5, True)"
      ]
     },
     "execution_count": 6,
     "metadata": {},
     "output_type": "execute_result"
    }
   ],
   "source": [
    "mixed_tuple=(1,\"helloaw\",3.5,True)\n",
    "mixed_tuple"
   ]
  },
  {
   "cell_type": "code",
   "execution_count": 7,
   "id": "d1702544",
   "metadata": {},
   "outputs": [
    {
     "data": {
      "text/plain": [
       "(1, 2, 3, 4, 5, 6)"
      ]
     },
     "execution_count": 7,
     "metadata": {},
     "output_type": "execute_result"
    }
   ],
   "source": [
    "# Accessing tuple elements \n",
    "\n",
    "numbers"
   ]
  },
  {
   "cell_type": "code",
   "execution_count": 11,
   "id": "06caa475",
   "metadata": {},
   "outputs": [
    {
     "name": "stdout",
     "output_type": "stream",
     "text": [
      "6\n",
      "(4, 5, 6)\n"
     ]
    }
   ],
   "source": [
    "print(numbers[-1])\n",
    "print(numbers[-3:])"
   ]
  },
  {
   "cell_type": "code",
   "execution_count": 15,
   "id": "003116e1",
   "metadata": {},
   "outputs": [
    {
     "name": "stdout",
     "output_type": "stream",
     "text": [
      "(1, 2, 3, 4, 5, 6, 1, 'helloaw', 3.5, True)\n"
     ]
    }
   ],
   "source": [
    "## Tuple operations \n",
    "\n",
    "concationation_tuples = numbers+mixed_tuple\n",
    "\n",
    "print(concationation_tuples)"
   ]
  },
  {
   "cell_type": "code",
   "execution_count": 17,
   "id": "f75c484d",
   "metadata": {},
   "outputs": [
    {
     "data": {
      "text/plain": [
       "(1, 2, 3, 4, 5, 6, 1, 2, 3, 4, 5, 6, 1, 2, 3, 4, 5, 6)"
      ]
     },
     "execution_count": 17,
     "metadata": {},
     "output_type": "execute_result"
    }
   ],
   "source": [
    "mixed_tuple*3\n",
    "numbers*3"
   ]
  },
  {
   "cell_type": "code",
   "execution_count": 18,
   "id": "bf4ae92b",
   "metadata": {},
   "outputs": [
    {
     "name": "stdout",
     "output_type": "stream",
     "text": [
      "[1, 2, 4, 5, 6, 7]\n",
      "[1, 2, 4, 'lol', 6, 7]\n"
     ]
    }
   ],
   "source": [
    "# Immutable nature of tuples \n",
    "# tuples are immutable, meaning their elements cannot be changed once assigned \n",
    "\n",
    "lst2=[1,2,4,5,6,7]\n",
    "print(lst2)\n",
    "lst2[3]=\"lol\"\n",
    "print(lst2)"
   ]
  },
  {
   "cell_type": "code",
   "execution_count": 19,
   "id": "4c3f9065",
   "metadata": {},
   "outputs": [
    {
     "name": "stdout",
     "output_type": "stream",
     "text": [
      "(1, 2, 3, 5, 6, 7)\n"
     ]
    },
    {
     "ename": "TypeError",
     "evalue": "'tuple' object does not support item assignment",
     "output_type": "error",
     "traceback": [
      "\u001b[31m---------------------------------------------------------------------------\u001b[39m",
      "\u001b[31mTypeError\u001b[39m                                 Traceback (most recent call last)",
      "\u001b[36mCell\u001b[39m\u001b[36m \u001b[39m\u001b[32mIn[19]\u001b[39m\u001b[32m, line 3\u001b[39m\n\u001b[32m      1\u001b[39m tlst=(\u001b[32m1\u001b[39m,\u001b[32m2\u001b[39m,\u001b[32m3\u001b[39m,\u001b[32m5\u001b[39m,\u001b[32m6\u001b[39m,\u001b[32m7\u001b[39m)\n\u001b[32m      2\u001b[39m \u001b[38;5;28mprint\u001b[39m(tlst)\n\u001b[32m----> \u001b[39m\u001b[32m3\u001b[39m \u001b[43mtlst\u001b[49m\u001b[43m[\u001b[49m\u001b[32;43m3\u001b[39;49m\u001b[43m]\u001b[49m=\u001b[33m\"\u001b[39m\u001b[33mlol\u001b[39m\u001b[33m\"\u001b[39m\n\u001b[32m      4\u001b[39m \u001b[38;5;28mprint\u001b[39m(tlst)\n",
      "\u001b[31mTypeError\u001b[39m: 'tuple' object does not support item assignment"
     ]
    }
   ],
   "source": [
    "tlst=(1,2,3,5,6,7)\n",
    "print(tlst)\n",
    "tlst[3]=\"lol\"\n",
    "print(tlst)"
   ]
  },
  {
   "cell_type": "code",
   "execution_count": 20,
   "id": "b4cfe201",
   "metadata": {},
   "outputs": [
    {
     "data": {
      "text/plain": [
       "(1, 2, 3, 4, 5, 6)"
      ]
     },
     "execution_count": 20,
     "metadata": {},
     "output_type": "execute_result"
    }
   ],
   "source": [
    "numbers"
   ]
  },
  {
   "cell_type": "code",
   "execution_count": 23,
   "id": "55f13646",
   "metadata": {},
   "outputs": [
    {
     "name": "stdout",
     "output_type": "stream",
     "text": [
      "1\n",
      "4\n"
     ]
    }
   ],
   "source": [
    "# tuple methods\n",
    "\n",
    "print(numbers.count(1))\n",
    "print(numbers.index(5))"
   ]
  },
  {
   "cell_type": "code",
   "execution_count": 24,
   "id": "c7ab6fa7",
   "metadata": {},
   "outputs": [
    {
     "name": "stdout",
     "output_type": "stream",
     "text": [
      "(1, 'hello', 3.4)\n"
     ]
    }
   ],
   "source": [
    "# Packing and unpacking tuples \n",
    "\n",
    "packed_tuple = 1,\"hello\",3.4\n",
    "print(packed_tuple)"
   ]
  },
  {
   "cell_type": "code",
   "execution_count": 25,
   "id": "d5798e96",
   "metadata": {},
   "outputs": [
    {
     "name": "stdout",
     "output_type": "stream",
     "text": [
      "1\n",
      "hello\n",
      "3.4\n"
     ]
    }
   ],
   "source": [
    "# Unpacking a tuple\n",
    "\n",
    "a,b,c= packed_tuple\n",
    "print(a)\n",
    "print(b)\n",
    "print(c)\n",
    "\n"
   ]
  },
  {
   "cell_type": "code",
   "execution_count": 26,
   "id": "9e4f0206",
   "metadata": {},
   "outputs": [
    {
     "name": "stdout",
     "output_type": "stream",
     "text": [
      "1\n",
      "[2, 3, 4, 5]\n",
      "6\n"
     ]
    }
   ],
   "source": [
    "# Unpacking with *\n",
    "numbers=(1,2,3,4,5,6)\n",
    "first,*middle,last=numbers\n",
    "print(first)\n",
    "print(middle)\n",
    "print(last)"
   ]
  },
  {
   "cell_type": "code",
   "execution_count": 35,
   "id": "f53de4ec",
   "metadata": {},
   "outputs": [
    {
     "data": {
      "text/plain": [
       "[1, 2, 3]"
      ]
     },
     "execution_count": 35,
     "metadata": {},
     "output_type": "execute_result"
    }
   ],
   "source": [
    "# Nested tuples\n",
    "\n",
    "lst=([1,2,3,5],[6,3,7],[\"hello\",\"lol\",3.3])\n",
    "lst[0][:3]\n"
   ]
  },
  {
   "cell_type": "code",
   "execution_count": 40,
   "id": "3b63bd57",
   "metadata": {},
   "outputs": [
    {
     "name": "stdout",
     "output_type": "stream",
     "text": [
      "1 2 3 5 \n",
      "6 3 7 \n",
      "hello lol 3.3 \n"
     ]
    }
   ],
   "source": [
    "# Iterating over nested tuples \n",
    "\n",
    "for sub_tuple in lst:\n",
    "    for item in sub_tuple:\n",
    "        print(item,end=\" \")\n",
    "    print()"
   ]
  },
  {
   "cell_type": "markdown",
   "id": "731d8b3e",
   "metadata": {},
   "source": [
    "## Conclusion\n",
    "Tuples are versatile and useful in many real-world scenarios where an immutable and ordered collection of items is required. They are commonly used in data structures, function arguments and return values, and as dictionary keys. Understanding how to leverage tuples effectively can improve the efficiency and readability of your Python code."
   ]
  }
 ],
 "metadata": {
  "kernelspec": {
   "display_name": "Python 3",
   "language": "python",
   "name": "python3"
  },
  "language_info": {
   "codemirror_mode": {
    "name": "ipython",
    "version": 3
   },
   "file_extension": ".py",
   "mimetype": "text/x-python",
   "name": "python",
   "nbconvert_exporter": "python",
   "pygments_lexer": "ipython3",
   "version": "3.13.2"
  }
 },
 "nbformat": 4,
 "nbformat_minor": 5
}
