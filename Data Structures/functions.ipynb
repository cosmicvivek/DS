{
 "cells": [
  {
   "cell_type": "markdown",
   "id": "b5539ece",
   "metadata": {},
   "source": [
    "\n",
    "## Functions in Python\n",
    "\n",
    "### Video Outline\n",
    "\n",
    "1. **Introduction to Functions**\n",
    "2. **Defining Functions**\n",
    "3. **Calling Functions**\n",
    "4. **Function Parameters**\n",
    "5. **Default Parameters**\n",
    "6. **Variable-Length Arguments**\n",
    "7. **Return Statement**\n",
    "\n",
    "\n",
    "### Introduction to Functions\n",
    "\n",
    "**Definition:**  \n",
    "A function is a block of code that performs a specific task. Functions help in organizing code, reusing code, and improving readability."
   ]
  },
  {
   "cell_type": "code",
   "execution_count": 51,
   "id": "57c835bb",
   "metadata": {},
   "outputs": [],
   "source": [
    "def function_name(parameters): \n",
    " \"\"\"Docstring\"\"\"\n",
    " #function body\n",
    " return expression"
   ]
  },
  {
   "cell_type": "code",
   "execution_count": 52,
   "id": "db072026",
   "metadata": {},
   "outputs": [
    {
     "name": "stdout",
     "output_type": "stream",
     "text": [
      "The number is even \n"
     ]
    }
   ],
   "source": [
    "# Why functions? \n",
    "\n",
    "num = 24\n",
    "if num%2==0:\n",
    "    print(\"The number is even \")\n",
    "else:\n",
    "    print(\"The number is odd\")\n",
    "\n",
    "    "
   ]
  },
  {
   "cell_type": "code",
   "execution_count": 53,
   "id": "7a21283d",
   "metadata": {},
   "outputs": [],
   "source": [
    "def even_or_odd(num):\n",
    "    \"\"\"This function finds even or odd\"\"\"\n",
    "    if num%2 == 0:\n",
    "        print(\"the number is even\")\n",
    "    else:\n",
    "        print(\"the number is odd\")\n",
    "    "
   ]
  },
  {
   "cell_type": "code",
   "execution_count": 54,
   "id": "646a1dc2",
   "metadata": {},
   "outputs": [
    {
     "name": "stdout",
     "output_type": "stream",
     "text": [
      "the number is odd\n"
     ]
    }
   ],
   "source": [
    "## Call this function \n",
    "even_or_odd(23)"
   ]
  },
  {
   "cell_type": "code",
   "execution_count": 55,
   "id": "d7401b7c",
   "metadata": {},
   "outputs": [
    {
     "name": "stdout",
     "output_type": "stream",
     "text": [
      "11\n"
     ]
    }
   ],
   "source": [
    "## function with multiple parameters \n",
    "\n",
    "def add(a,b): \n",
    "    \"\"\"Adding 2 variables\"\"\"\n",
    "    # c=a+b\n",
    "    # return c\n",
    "\n",
    "    return a+b\n",
    "\n",
    "result = add(2,9)\n",
    "print(result)"
   ]
  },
  {
   "cell_type": "code",
   "execution_count": 56,
   "id": "aa3523b9",
   "metadata": {},
   "outputs": [
    {
     "name": "stdout",
     "output_type": "stream",
     "text": [
      "Hello guest  how are you?\n"
     ]
    }
   ],
   "source": [
    "# Default parameters \n",
    "\n",
    "def greet(name = \"guest\"):\n",
    "    print(f\"Hello {name}  how are you?\")\n",
    "\n",
    "greet()"
   ]
  },
  {
   "cell_type": "code",
   "execution_count": 57,
   "id": "c59d9e41",
   "metadata": {},
   "outputs": [],
   "source": [
    "# Variable length arguments \n",
    "# Positional and keyword argument\n",
    "\n",
    "def print_numbers(*num5):\n",
    "    for numbers in num5:\n",
    "        print(numbers)\n",
    "     "
   ]
  },
  {
   "cell_type": "code",
   "execution_count": 58,
   "id": "27807dd9",
   "metadata": {},
   "outputs": [
    {
     "name": "stdout",
     "output_type": "stream",
     "text": [
      "1\n",
      "2\n",
      "3\n",
      "4\n",
      "5\n",
      "6\n",
      "7\n",
      "8\n",
      "vivek\n"
     ]
    }
   ],
   "source": [
    "print_numbers(1,2,3,4,5,6,7,8,\"vivek\")  #positional arguments"
   ]
  },
  {
   "cell_type": "code",
   "execution_count": 59,
   "id": "930d7c10",
   "metadata": {},
   "outputs": [],
   "source": [
    "# key arguments \n",
    "\n",
    "def print_details( *args, **kwargs):\n",
    "    for val  in args:\n",
    "        print(f\"Positional arguemnt :  {val} \")\n",
    "\n",
    "    for key, value in kwargs.items():\n",
    "        print(f\"{key} : {value}\")"
   ]
  },
  {
   "cell_type": "code",
   "execution_count": 60,
   "id": "3c9ae059",
   "metadata": {},
   "outputs": [
    {
     "name": "stdout",
     "output_type": "stream",
     "text": [
      "Positional arguemnt :  1 \n",
      "Positional arguemnt :  2 \n",
      "Positional arguemnt :  3 \n",
      "Positional arguemnt :  4 \n",
      "Positional arguemnt :  5 \n",
      "Positional arguemnt :  6 \n",
      "Positional arguemnt :  7 \n",
      "Positional arguemnt :  8 \n",
      "Positional arguemnt :  9 \n",
      "Positional arguemnt :  vivek \n",
      "name : vivek\n",
      "age : 24\n"
     ]
    }
   ],
   "source": [
    "print_details(1,2,3,4,5,6,7,8,9, \"vivek\", name=\"vivek\", age = 24)"
   ]
  },
  {
   "cell_type": "code",
   "execution_count": 61,
   "id": "71c259ba",
   "metadata": {},
   "outputs": [
    {
     "data": {
      "text/plain": [
       "(10, 2, 5)"
      ]
     },
     "execution_count": 61,
     "metadata": {},
     "output_type": "execute_result"
    }
   ],
   "source": [
    "# Return multiple parameters form a function \n",
    "\n",
    "def multiply(a,b):\n",
    "    return a*b,a,b\n",
    "multiply(2,5)"
   ]
  },
  {
   "cell_type": "code",
   "execution_count": 62,
   "id": "47f35ba4",
   "metadata": {},
   "outputs": [
    {
     "name": "stdout",
     "output_type": "stream",
     "text": [
      "98.6\n",
      "-40.0\n"
     ]
    }
   ],
   "source": [
    "# EXAMPLES of function \n",
    "# Example 1: Temperature Conversion\n",
    "\n",
    "def temp_convert(temp,unit):\n",
    "    \"\"\"This function converts the temp between celsius and Fahranheit\"\"\"\n",
    "\n",
    "    if unit == 'c':\n",
    "        return temp*9/5+32 # Celsius to fahraneit \n",
    "    elif unit == 'f':\n",
    "        return (temp-32)*5/9 # Fahraneit to celsius \n",
    "    else:\n",
    "        return None \n",
    "    \n",
    "print(temp_convert(37,'c'))\n",
    "print(temp_convert(-40, 'f'))\n",
    " "
   ]
  },
  {
   "cell_type": "code",
   "execution_count": 63,
   "id": "135dd983",
   "metadata": {},
   "outputs": [],
   "source": [
    "# Password strength checker \n",
    "\n",
    "def strength_checker(password):\n",
    "    \"\"\"checking password strength\"\"\"\n",
    "    if len(password)<8:\n",
    "        return False \n",
    "    if not any(char.isdigit() for char in password):\n",
    "        return False\n",
    "    if not any( char.islower() for char in password):\n",
    "        return False\n",
    "    if not any(char.isupper() for char in password):\n",
    "        return False\n",
    "    \n",
    "    return True"
   ]
  },
  {
   "cell_type": "code",
   "execution_count": 64,
   "id": "d221ce80",
   "metadata": {},
   "outputs": [
    {
     "name": "stdout",
     "output_type": "stream",
     "text": [
      "False\n",
      "False\n"
     ]
    }
   ],
   "source": [
    "print(strength_checker(\"LoduPass\"))\n",
    "print(strength_checker(\"LoPs23\"))"
   ]
  },
  {
   "cell_type": "code",
   "execution_count": 65,
   "id": "f97ba782",
   "metadata": {},
   "outputs": [
    {
     "name": "stdout",
     "output_type": "stream",
     "text": [
      "7.0\n"
     ]
    }
   ],
   "source": [
    "# Calculate total cost of items in a shopping cart \n",
    "\n",
    "def calculate_total_cost (cart):\n",
    "    total_cost = 0 \n",
    "    for item in cart: \n",
    "        total_cost += item['price']*item['quantity']\n",
    "    return total_cost\n",
    "\n",
    "# Eample cart data \n",
    "\n",
    "cart = [\n",
    "    {'name': 'apple', 'price': 0.5, 'quantity': 4},\n",
    "    {'name': 'banana', 'price': 0.2, 'quantity': 10},\n",
    "    {'name': 'milk', 'price': 1.5, 'quantity': 2}\n",
    "]\n",
    "print(calculate_total_cost(cart))"
   ]
  },
  {
   "cell_type": "code",
   "execution_count": 66,
   "id": "a0e0fbad",
   "metadata": {},
   "outputs": [
    {
     "name": "stdout",
     "output_type": "stream",
     "text": [
      "True\n"
     ]
    }
   ],
   "source": [
    "# Check if a string is palindrone \n",
    "\n",
    "def is_panindrome(s):\n",
    "    s=s.lower().replace(\" \", \"\")\n",
    "    return s==s[::-1]\n",
    "print(is_panindrome(\"Naman\"))"
   ]
  },
  {
   "cell_type": "code",
   "execution_count": 80,
   "id": "6d7dc956",
   "metadata": {},
   "outputs": [
    {
     "name": "stdout",
     "output_type": "stream",
     "text": [
      "\n",
      "Calculating factorial of 5:\n",
      "Calculating factorial(5)\n",
      "  Calculating factorial(4)\n",
      "    Calculating factorial(3)\n",
      "      Calculating factorial(2)\n",
      "        Calculating factorial(1)\n",
      "          Calculating factorial(0)\n",
      "          Base case: returning 1\n",
      "        Returning: 1\n",
      "      Returning: 2\n",
      "    Returning: 6\n",
      "  Returning: 24\n",
      "Returning: 120\n",
      "\n",
      "Final result: 120\n"
     ]
    }
   ],
   "source": [
    "# Factorial of a number using recursion (calling a function again and again within itself)\n",
    "\n",
    "def factoral(n, depth=0):\n",
    "    indent = \"  \" * depth\n",
    "    print(f\"{indent}Calculating factorial({n})\")\n",
    "    \n",
    "    if n == 0:\n",
    "        print(f\"{indent}Base case: returning 1\")\n",
    "        return 1\n",
    "    else:\n",
    "        result = n * factoral(n-1, depth+1)\n",
    "        print(f\"{indent}Returning: {result}\")\n",
    "        return result\n",
    "\n",
    "print(\"\\nCalculating factorial of 5:\")\n",
    "result = factoral(5)\n",
    "print(f\"\\nFinal result: {result}\")"
   ]
  },
  {
   "cell_type": "code",
   "execution_count": null,
   "id": "f9fba950",
   "metadata": {},
   "outputs": [],
   "source": [
    "# A function to check frequency of a word in a text \n",
    "\n",
    "LATER"
   ]
  },
  {
   "cell_type": "code",
   "execution_count": null,
   "id": "2c95bbb7",
   "metadata": {},
   "outputs": [],
   "source": [
    "# Validate email address\n"
   ]
  }
 ],
 "metadata": {
  "kernelspec": {
   "display_name": "Python 3",
   "language": "python",
   "name": "python3"
  },
  "language_info": {
   "codemirror_mode": {
    "name": "ipython",
    "version": 3
   },
   "file_extension": ".py",
   "mimetype": "text/x-python",
   "name": "python",
   "nbconvert_exporter": "python",
   "pygments_lexer": "ipython3",
   "version": "3.13.2"
  }
 },
 "nbformat": 4,
 "nbformat_minor": 5
}
